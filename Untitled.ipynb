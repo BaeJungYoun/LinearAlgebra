{
 "cells": [
  {
   "cell_type": "markdown",
   "metadata": {},
   "source": [
    "# Perceptron\n",
    "\n",
    "$x_1,x_2$ 두 개의 입력신호를 받아서 가중치 $w_1, w_2$를 곱하여 얻은 출력신호를 다음과 같이 얻었다 하자.\n",
    "\n",
    "$$y = \\begin{dcases} 0 & w_1x_1+w_2x_2 \\le \\theta \\\\\n",
    "1 & w_1x_1+w_2x_2 > \\theta \\end{dcases}$$\n",
    "\n",
    "여기서 $\\theta$는 한계값(threshold)으로써, 출력 신호에 해당하는 뉴런(neuron)이 활성화(activation)되는 임계값을 말한다.\n",
    "\n",
    "예를 들어 $w_1=w_2=0.5$, $\\theta=0.7$인 퍼셉"
   ]
  }
 ],
 "metadata": {
  "kernelspec": {
   "display_name": "Python 3",
   "language": "python",
   "name": "python3"
  },
  "language_info": {
   "codemirror_mode": {
    "name": "ipython",
    "version": 3
   },
   "file_extension": ".py",
   "mimetype": "text/x-python",
   "name": "python",
   "nbconvert_exporter": "python",
   "pygments_lexer": "ipython3",
   "version": "3.7.0"
  }
 },
 "nbformat": 4,
 "nbformat_minor": 2
}
